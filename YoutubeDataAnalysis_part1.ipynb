{
 "cells": [
  {
   "cell_type": "markdown",
   "metadata": {},
   "source": [
    "# The purpose of this notebook is to compare several factors of trending videos in India and that in a western country like USA"
   ]
  },
  {
   "cell_type": "code",
   "execution_count": 1,
   "metadata": {},
   "outputs": [],
   "source": [
    "import numpy as np\n",
    "import pandas as pd\n",
    "import matplotlib.pyplot as plt\n",
    "import seaborn as sb"
   ]
  },
  {
   "cell_type": "code",
   "execution_count": 2,
   "metadata": {},
   "outputs": [],
   "source": [
    "dfIndia = pd.read_csv('india.csv')\n",
    "dfUSA = pd.read_csv('us.csv')"
   ]
  },
  {
   "cell_type": "code",
   "execution_count": 3,
   "metadata": {},
   "outputs": [
    {
     "data": {
      "text/html": [
       "<div>\n",
       "<style scoped>\n",
       "    .dataframe tbody tr th:only-of-type {\n",
       "        vertical-align: middle;\n",
       "    }\n",
       "\n",
       "    .dataframe tbody tr th {\n",
       "        vertical-align: top;\n",
       "    }\n",
       "\n",
       "    .dataframe thead th {\n",
       "        text-align: right;\n",
       "    }\n",
       "</style>\n",
       "<table border=\"1\" class=\"dataframe\">\n",
       "  <thead>\n",
       "    <tr style=\"text-align: right;\">\n",
       "      <th></th>\n",
       "      <th>video_id</th>\n",
       "      <th>trending_date</th>\n",
       "      <th>title</th>\n",
       "      <th>channel_title</th>\n",
       "      <th>category_id</th>\n",
       "      <th>publish_time</th>\n",
       "      <th>tags</th>\n",
       "      <th>views</th>\n",
       "      <th>likes</th>\n",
       "      <th>dislikes</th>\n",
       "      <th>comment_count</th>\n",
       "      <th>thumbnail_link</th>\n",
       "      <th>comments_disabled</th>\n",
       "      <th>ratings_disabled</th>\n",
       "      <th>video_error_or_removed</th>\n",
       "      <th>description</th>\n",
       "    </tr>\n",
       "  </thead>\n",
       "  <tbody>\n",
       "    <tr>\n",
       "      <td>0</td>\n",
       "      <td>kzwfHumJyYc</td>\n",
       "      <td>17.14.11</td>\n",
       "      <td>Sharry Mann: Cute Munda ( Song Teaser) | Parmi...</td>\n",
       "      <td>Lokdhun Punjabi</td>\n",
       "      <td>1</td>\n",
       "      <td>2017-11-12T12:20:39.000Z</td>\n",
       "      <td>sharry mann|\"sharry mann new song\"|\"sharry man...</td>\n",
       "      <td>1096327</td>\n",
       "      <td>33966</td>\n",
       "      <td>798</td>\n",
       "      <td>882</td>\n",
       "      <td>https://i.ytimg.com/vi/kzwfHumJyYc/default.jpg</td>\n",
       "      <td>False</td>\n",
       "      <td>False</td>\n",
       "      <td>False</td>\n",
       "      <td>Presenting Sharry Mann latest Punjabi Song  Cu...</td>\n",
       "    </tr>\n",
       "    <tr>\n",
       "      <td>1</td>\n",
       "      <td>zUZ1z7FwLc8</td>\n",
       "      <td>17.14.11</td>\n",
       "      <td>पीरियड्स के समय, पेट पर पति करता ऐसा, देखकर दं...</td>\n",
       "      <td>HJ NEWS</td>\n",
       "      <td>25</td>\n",
       "      <td>2017-11-13T05:43:56.000Z</td>\n",
       "      <td>पीरियड्स के समय|\"पेट पर पति करता ऐसा\"|\"देखकर द...</td>\n",
       "      <td>590101</td>\n",
       "      <td>735</td>\n",
       "      <td>904</td>\n",
       "      <td>0</td>\n",
       "      <td>https://i.ytimg.com/vi/zUZ1z7FwLc8/default.jpg</td>\n",
       "      <td>True</td>\n",
       "      <td>False</td>\n",
       "      <td>False</td>\n",
       "      <td>पीरियड्स के समय, पेट पर पति करता ऐसा, देखकर दं...</td>\n",
       "    </tr>\n",
       "    <tr>\n",
       "      <td>2</td>\n",
       "      <td>10L1hZ9qa58</td>\n",
       "      <td>17.14.11</td>\n",
       "      <td>Stylish Star Allu Arjun @ ChaySam Wedding Rece...</td>\n",
       "      <td>TFPC</td>\n",
       "      <td>24</td>\n",
       "      <td>2017-11-12T15:48:08.000Z</td>\n",
       "      <td>Stylish Star Allu Arjun @ ChaySam Wedding Rece...</td>\n",
       "      <td>473988</td>\n",
       "      <td>2011</td>\n",
       "      <td>243</td>\n",
       "      <td>149</td>\n",
       "      <td>https://i.ytimg.com/vi/10L1hZ9qa58/default.jpg</td>\n",
       "      <td>False</td>\n",
       "      <td>False</td>\n",
       "      <td>False</td>\n",
       "      <td>Watch Stylish Star Allu Arjun @ ChaySam Weddin...</td>\n",
       "    </tr>\n",
       "    <tr>\n",
       "      <td>3</td>\n",
       "      <td>N1vE8iiEg64</td>\n",
       "      <td>17.14.11</td>\n",
       "      <td>Eruma Saani | Tamil vs English</td>\n",
       "      <td>Eruma Saani</td>\n",
       "      <td>23</td>\n",
       "      <td>2017-11-12T07:08:48.000Z</td>\n",
       "      <td>Eruma Saani|\"Tamil Comedy Videos\"|\"Films\"|\"Mov...</td>\n",
       "      <td>1242680</td>\n",
       "      <td>70353</td>\n",
       "      <td>1624</td>\n",
       "      <td>2684</td>\n",
       "      <td>https://i.ytimg.com/vi/N1vE8iiEg64/default.jpg</td>\n",
       "      <td>False</td>\n",
       "      <td>False</td>\n",
       "      <td>False</td>\n",
       "      <td>This video showcases the difference between pe...</td>\n",
       "    </tr>\n",
       "    <tr>\n",
       "      <td>4</td>\n",
       "      <td>kJzGH0PVQHQ</td>\n",
       "      <td>17.14.11</td>\n",
       "      <td>why Samantha became EMOTIONAL @ Samantha naga ...</td>\n",
       "      <td>Filmylooks</td>\n",
       "      <td>24</td>\n",
       "      <td>2017-11-13T01:14:16.000Z</td>\n",
       "      <td>Filmylooks|\"latest news\"|\"telugu movies\"|\"telu...</td>\n",
       "      <td>464015</td>\n",
       "      <td>492</td>\n",
       "      <td>293</td>\n",
       "      <td>66</td>\n",
       "      <td>https://i.ytimg.com/vi/kJzGH0PVQHQ/default.jpg</td>\n",
       "      <td>False</td>\n",
       "      <td>False</td>\n",
       "      <td>False</td>\n",
       "      <td>why Samantha became EMOTIONAL @ Samantha naga ...</td>\n",
       "    </tr>\n",
       "  </tbody>\n",
       "</table>\n",
       "</div>"
      ],
      "text/plain": [
       "      video_id trending_date  \\\n",
       "0  kzwfHumJyYc      17.14.11   \n",
       "1  zUZ1z7FwLc8      17.14.11   \n",
       "2  10L1hZ9qa58      17.14.11   \n",
       "3  N1vE8iiEg64      17.14.11   \n",
       "4  kJzGH0PVQHQ      17.14.11   \n",
       "\n",
       "                                               title    channel_title  \\\n",
       "0  Sharry Mann: Cute Munda ( Song Teaser) | Parmi...  Lokdhun Punjabi   \n",
       "1  पीरियड्स के समय, पेट पर पति करता ऐसा, देखकर दं...          HJ NEWS   \n",
       "2  Stylish Star Allu Arjun @ ChaySam Wedding Rece...             TFPC   \n",
       "3                     Eruma Saani | Tamil vs English      Eruma Saani   \n",
       "4  why Samantha became EMOTIONAL @ Samantha naga ...       Filmylooks   \n",
       "\n",
       "   category_id              publish_time  \\\n",
       "0            1  2017-11-12T12:20:39.000Z   \n",
       "1           25  2017-11-13T05:43:56.000Z   \n",
       "2           24  2017-11-12T15:48:08.000Z   \n",
       "3           23  2017-11-12T07:08:48.000Z   \n",
       "4           24  2017-11-13T01:14:16.000Z   \n",
       "\n",
       "                                                tags    views  likes  \\\n",
       "0  sharry mann|\"sharry mann new song\"|\"sharry man...  1096327  33966   \n",
       "1  पीरियड्स के समय|\"पेट पर पति करता ऐसा\"|\"देखकर द...   590101    735   \n",
       "2  Stylish Star Allu Arjun @ ChaySam Wedding Rece...   473988   2011   \n",
       "3  Eruma Saani|\"Tamil Comedy Videos\"|\"Films\"|\"Mov...  1242680  70353   \n",
       "4  Filmylooks|\"latest news\"|\"telugu movies\"|\"telu...   464015    492   \n",
       "\n",
       "   dislikes  comment_count                                  thumbnail_link  \\\n",
       "0       798            882  https://i.ytimg.com/vi/kzwfHumJyYc/default.jpg   \n",
       "1       904              0  https://i.ytimg.com/vi/zUZ1z7FwLc8/default.jpg   \n",
       "2       243            149  https://i.ytimg.com/vi/10L1hZ9qa58/default.jpg   \n",
       "3      1624           2684  https://i.ytimg.com/vi/N1vE8iiEg64/default.jpg   \n",
       "4       293             66  https://i.ytimg.com/vi/kJzGH0PVQHQ/default.jpg   \n",
       "\n",
       "   comments_disabled  ratings_disabled  video_error_or_removed  \\\n",
       "0              False             False                   False   \n",
       "1               True             False                   False   \n",
       "2              False             False                   False   \n",
       "3              False             False                   False   \n",
       "4              False             False                   False   \n",
       "\n",
       "                                         description  \n",
       "0  Presenting Sharry Mann latest Punjabi Song  Cu...  \n",
       "1  पीरियड्स के समय, पेट पर पति करता ऐसा, देखकर दं...  \n",
       "2  Watch Stylish Star Allu Arjun @ ChaySam Weddin...  \n",
       "3  This video showcases the difference between pe...  \n",
       "4  why Samantha became EMOTIONAL @ Samantha naga ...  "
      ]
     },
     "execution_count": 3,
     "metadata": {},
     "output_type": "execute_result"
    }
   ],
   "source": [
    "dfIndia.head()"
   ]
  },
  {
   "cell_type": "code",
   "execution_count": 4,
   "metadata": {},
   "outputs": [
    {
     "data": {
      "text/html": [
       "<div>\n",
       "<style scoped>\n",
       "    .dataframe tbody tr th:only-of-type {\n",
       "        vertical-align: middle;\n",
       "    }\n",
       "\n",
       "    .dataframe tbody tr th {\n",
       "        vertical-align: top;\n",
       "    }\n",
       "\n",
       "    .dataframe thead th {\n",
       "        text-align: right;\n",
       "    }\n",
       "</style>\n",
       "<table border=\"1\" class=\"dataframe\">\n",
       "  <thead>\n",
       "    <tr style=\"text-align: right;\">\n",
       "      <th></th>\n",
       "      <th>video_id</th>\n",
       "      <th>trending_date</th>\n",
       "      <th>title</th>\n",
       "      <th>channel_title</th>\n",
       "      <th>category_id</th>\n",
       "      <th>publish_time</th>\n",
       "      <th>tags</th>\n",
       "      <th>views</th>\n",
       "      <th>likes</th>\n",
       "      <th>dislikes</th>\n",
       "      <th>comment_count</th>\n",
       "      <th>thumbnail_link</th>\n",
       "      <th>comments_disabled</th>\n",
       "      <th>ratings_disabled</th>\n",
       "      <th>video_error_or_removed</th>\n",
       "      <th>description</th>\n",
       "    </tr>\n",
       "  </thead>\n",
       "  <tbody>\n",
       "    <tr>\n",
       "      <td>0</td>\n",
       "      <td>2kyS6SvSYSE</td>\n",
       "      <td>17.14.11</td>\n",
       "      <td>WE WANT TO TALK ABOUT OUR MARRIAGE</td>\n",
       "      <td>CaseyNeistat</td>\n",
       "      <td>22</td>\n",
       "      <td>2017-11-13T17:13:01.000Z</td>\n",
       "      <td>SHANtell martin</td>\n",
       "      <td>748374</td>\n",
       "      <td>57527</td>\n",
       "      <td>2966</td>\n",
       "      <td>15954</td>\n",
       "      <td>https://i.ytimg.com/vi/2kyS6SvSYSE/default.jpg</td>\n",
       "      <td>False</td>\n",
       "      <td>False</td>\n",
       "      <td>False</td>\n",
       "      <td>SHANTELL'S CHANNEL - https://www.youtube.com/s...</td>\n",
       "    </tr>\n",
       "    <tr>\n",
       "      <td>1</td>\n",
       "      <td>1ZAPwfrtAFY</td>\n",
       "      <td>17.14.11</td>\n",
       "      <td>The Trump Presidency: Last Week Tonight with J...</td>\n",
       "      <td>LastWeekTonight</td>\n",
       "      <td>24</td>\n",
       "      <td>2017-11-13T07:30:00.000Z</td>\n",
       "      <td>last week tonight trump presidency|\"last week ...</td>\n",
       "      <td>2418783</td>\n",
       "      <td>97185</td>\n",
       "      <td>6146</td>\n",
       "      <td>12703</td>\n",
       "      <td>https://i.ytimg.com/vi/1ZAPwfrtAFY/default.jpg</td>\n",
       "      <td>False</td>\n",
       "      <td>False</td>\n",
       "      <td>False</td>\n",
       "      <td>One year after the presidential election, John...</td>\n",
       "    </tr>\n",
       "    <tr>\n",
       "      <td>2</td>\n",
       "      <td>5qpjK5DgCt4</td>\n",
       "      <td>17.14.11</td>\n",
       "      <td>Racist Superman | Rudy Mancuso, King Bach &amp; Le...</td>\n",
       "      <td>Rudy Mancuso</td>\n",
       "      <td>23</td>\n",
       "      <td>2017-11-12T19:05:24.000Z</td>\n",
       "      <td>racist superman|\"rudy\"|\"mancuso\"|\"king\"|\"bach\"...</td>\n",
       "      <td>3191434</td>\n",
       "      <td>146033</td>\n",
       "      <td>5339</td>\n",
       "      <td>8181</td>\n",
       "      <td>https://i.ytimg.com/vi/5qpjK5DgCt4/default.jpg</td>\n",
       "      <td>False</td>\n",
       "      <td>False</td>\n",
       "      <td>False</td>\n",
       "      <td>WATCH MY PREVIOUS VIDEO ▶ \\n\\nSUBSCRIBE ► http...</td>\n",
       "    </tr>\n",
       "    <tr>\n",
       "      <td>3</td>\n",
       "      <td>puqaWrEC7tY</td>\n",
       "      <td>17.14.11</td>\n",
       "      <td>Nickelback Lyrics: Real or Fake?</td>\n",
       "      <td>Good Mythical Morning</td>\n",
       "      <td>24</td>\n",
       "      <td>2017-11-13T11:00:04.000Z</td>\n",
       "      <td>rhett and link|\"gmm\"|\"good mythical morning\"|\"...</td>\n",
       "      <td>343168</td>\n",
       "      <td>10172</td>\n",
       "      <td>666</td>\n",
       "      <td>2146</td>\n",
       "      <td>https://i.ytimg.com/vi/puqaWrEC7tY/default.jpg</td>\n",
       "      <td>False</td>\n",
       "      <td>False</td>\n",
       "      <td>False</td>\n",
       "      <td>Today we find out if Link is a Nickelback amat...</td>\n",
       "    </tr>\n",
       "    <tr>\n",
       "      <td>4</td>\n",
       "      <td>d380meD0W0M</td>\n",
       "      <td>17.14.11</td>\n",
       "      <td>I Dare You: GOING BALD!?</td>\n",
       "      <td>nigahiga</td>\n",
       "      <td>24</td>\n",
       "      <td>2017-11-12T18:01:41.000Z</td>\n",
       "      <td>ryan|\"higa\"|\"higatv\"|\"nigahiga\"|\"i dare you\"|\"...</td>\n",
       "      <td>2095731</td>\n",
       "      <td>132235</td>\n",
       "      <td>1989</td>\n",
       "      <td>17518</td>\n",
       "      <td>https://i.ytimg.com/vi/d380meD0W0M/default.jpg</td>\n",
       "      <td>False</td>\n",
       "      <td>False</td>\n",
       "      <td>False</td>\n",
       "      <td>I know it's been a while since we did this sho...</td>\n",
       "    </tr>\n",
       "  </tbody>\n",
       "</table>\n",
       "</div>"
      ],
      "text/plain": [
       "      video_id trending_date  \\\n",
       "0  2kyS6SvSYSE      17.14.11   \n",
       "1  1ZAPwfrtAFY      17.14.11   \n",
       "2  5qpjK5DgCt4      17.14.11   \n",
       "3  puqaWrEC7tY      17.14.11   \n",
       "4  d380meD0W0M      17.14.11   \n",
       "\n",
       "                                               title          channel_title  \\\n",
       "0                 WE WANT TO TALK ABOUT OUR MARRIAGE           CaseyNeistat   \n",
       "1  The Trump Presidency: Last Week Tonight with J...        LastWeekTonight   \n",
       "2  Racist Superman | Rudy Mancuso, King Bach & Le...           Rudy Mancuso   \n",
       "3                   Nickelback Lyrics: Real or Fake?  Good Mythical Morning   \n",
       "4                           I Dare You: GOING BALD!?               nigahiga   \n",
       "\n",
       "   category_id              publish_time  \\\n",
       "0           22  2017-11-13T17:13:01.000Z   \n",
       "1           24  2017-11-13T07:30:00.000Z   \n",
       "2           23  2017-11-12T19:05:24.000Z   \n",
       "3           24  2017-11-13T11:00:04.000Z   \n",
       "4           24  2017-11-12T18:01:41.000Z   \n",
       "\n",
       "                                                tags    views   likes  \\\n",
       "0                                    SHANtell martin   748374   57527   \n",
       "1  last week tonight trump presidency|\"last week ...  2418783   97185   \n",
       "2  racist superman|\"rudy\"|\"mancuso\"|\"king\"|\"bach\"...  3191434  146033   \n",
       "3  rhett and link|\"gmm\"|\"good mythical morning\"|\"...   343168   10172   \n",
       "4  ryan|\"higa\"|\"higatv\"|\"nigahiga\"|\"i dare you\"|\"...  2095731  132235   \n",
       "\n",
       "   dislikes  comment_count                                  thumbnail_link  \\\n",
       "0      2966          15954  https://i.ytimg.com/vi/2kyS6SvSYSE/default.jpg   \n",
       "1      6146          12703  https://i.ytimg.com/vi/1ZAPwfrtAFY/default.jpg   \n",
       "2      5339           8181  https://i.ytimg.com/vi/5qpjK5DgCt4/default.jpg   \n",
       "3       666           2146  https://i.ytimg.com/vi/puqaWrEC7tY/default.jpg   \n",
       "4      1989          17518  https://i.ytimg.com/vi/d380meD0W0M/default.jpg   \n",
       "\n",
       "   comments_disabled  ratings_disabled  video_error_or_removed  \\\n",
       "0              False             False                   False   \n",
       "1              False             False                   False   \n",
       "2              False             False                   False   \n",
       "3              False             False                   False   \n",
       "4              False             False                   False   \n",
       "\n",
       "                                         description  \n",
       "0  SHANTELL'S CHANNEL - https://www.youtube.com/s...  \n",
       "1  One year after the presidential election, John...  \n",
       "2  WATCH MY PREVIOUS VIDEO ▶ \\n\\nSUBSCRIBE ► http...  \n",
       "3  Today we find out if Link is a Nickelback amat...  \n",
       "4  I know it's been a while since we did this sho...  "
      ]
     },
     "execution_count": 4,
     "metadata": {},
     "output_type": "execute_result"
    }
   ],
   "source": [
    "dfUSA.head()"
   ]
  },
  {
   "cell_type": "markdown",
   "metadata": {},
   "source": [
    "## Lets check how many entries are there in both these dataframes"
   ]
  },
  {
   "cell_type": "code",
   "execution_count": 5,
   "metadata": {},
   "outputs": [
    {
     "name": "stdout",
     "output_type": "stream",
     "text": [
      "India data = 37352\n",
      "USA data = 40949\n"
     ]
    }
   ],
   "source": [
    "print('India data = ' + str(len(dfIndia)))\n",
    "print('USA data = '  + str(len(dfUSA)))"
   ]
  },
  {
   "cell_type": "markdown",
   "metadata": {},
   "source": [
    "## we have equivalent amount of data for both the countries so its great for further analysis"
   ]
  },
  {
   "cell_type": "code",
   "execution_count": 6,
   "metadata": {},
   "outputs": [
    {
     "name": "stdout",
     "output_type": "stream",
     "text": [
      "<class 'pandas.core.frame.DataFrame'>\n",
      "RangeIndex: 37352 entries, 0 to 37351\n",
      "Data columns (total 16 columns):\n",
      "video_id                  37352 non-null object\n",
      "trending_date             37352 non-null object\n",
      "title                     37352 non-null object\n",
      "channel_title             37352 non-null object\n",
      "category_id               37352 non-null int64\n",
      "publish_time              37352 non-null object\n",
      "tags                      37352 non-null object\n",
      "views                     37352 non-null int64\n",
      "likes                     37352 non-null int64\n",
      "dislikes                  37352 non-null int64\n",
      "comment_count             37352 non-null int64\n",
      "thumbnail_link            37352 non-null object\n",
      "comments_disabled         37352 non-null bool\n",
      "ratings_disabled          37352 non-null bool\n",
      "video_error_or_removed    37352 non-null bool\n",
      "description               36791 non-null object\n",
      "dtypes: bool(3), int64(5), object(8)\n",
      "memory usage: 3.8+ MB\n"
     ]
    }
   ],
   "source": [
    "dfIndia.info()"
   ]
  },
  {
   "cell_type": "code",
   "execution_count": 7,
   "metadata": {},
   "outputs": [],
   "source": [
    "dfIndia.dropna(inplace=True)"
   ]
  },
  {
   "cell_type": "code",
   "execution_count": 8,
   "metadata": {},
   "outputs": [
    {
     "name": "stdout",
     "output_type": "stream",
     "text": [
      "<class 'pandas.core.frame.DataFrame'>\n",
      "Int64Index: 36791 entries, 0 to 37351\n",
      "Data columns (total 16 columns):\n",
      "video_id                  36791 non-null object\n",
      "trending_date             36791 non-null object\n",
      "title                     36791 non-null object\n",
      "channel_title             36791 non-null object\n",
      "category_id               36791 non-null int64\n",
      "publish_time              36791 non-null object\n",
      "tags                      36791 non-null object\n",
      "views                     36791 non-null int64\n",
      "likes                     36791 non-null int64\n",
      "dislikes                  36791 non-null int64\n",
      "comment_count             36791 non-null int64\n",
      "thumbnail_link            36791 non-null object\n",
      "comments_disabled         36791 non-null bool\n",
      "ratings_disabled          36791 non-null bool\n",
      "video_error_or_removed    36791 non-null bool\n",
      "description               36791 non-null object\n",
      "dtypes: bool(3), int64(5), object(8)\n",
      "memory usage: 4.0+ MB\n"
     ]
    }
   ],
   "source": [
    "dfIndia.info()"
   ]
  },
  {
   "cell_type": "code",
   "execution_count": 9,
   "metadata": {},
   "outputs": [
    {
     "name": "stdout",
     "output_type": "stream",
     "text": [
      "<class 'pandas.core.frame.DataFrame'>\n",
      "RangeIndex: 40949 entries, 0 to 40948\n",
      "Data columns (total 16 columns):\n",
      "video_id                  40949 non-null object\n",
      "trending_date             40949 non-null object\n",
      "title                     40949 non-null object\n",
      "channel_title             40949 non-null object\n",
      "category_id               40949 non-null int64\n",
      "publish_time              40949 non-null object\n",
      "tags                      40949 non-null object\n",
      "views                     40949 non-null int64\n",
      "likes                     40949 non-null int64\n",
      "dislikes                  40949 non-null int64\n",
      "comment_count             40949 non-null int64\n",
      "thumbnail_link            40949 non-null object\n",
      "comments_disabled         40949 non-null bool\n",
      "ratings_disabled          40949 non-null bool\n",
      "video_error_or_removed    40949 non-null bool\n",
      "description               40379 non-null object\n",
      "dtypes: bool(3), int64(5), object(8)\n",
      "memory usage: 4.2+ MB\n"
     ]
    }
   ],
   "source": [
    "dfUSA.info()"
   ]
  },
  {
   "cell_type": "code",
   "execution_count": 10,
   "metadata": {},
   "outputs": [],
   "source": [
    "dfUSA.dropna(inplace = True)"
   ]
  },
  {
   "cell_type": "code",
   "execution_count": 11,
   "metadata": {},
   "outputs": [
    {
     "name": "stdout",
     "output_type": "stream",
     "text": [
      "<class 'pandas.core.frame.DataFrame'>\n",
      "Int64Index: 40379 entries, 0 to 40948\n",
      "Data columns (total 16 columns):\n",
      "video_id                  40379 non-null object\n",
      "trending_date             40379 non-null object\n",
      "title                     40379 non-null object\n",
      "channel_title             40379 non-null object\n",
      "category_id               40379 non-null int64\n",
      "publish_time              40379 non-null object\n",
      "tags                      40379 non-null object\n",
      "views                     40379 non-null int64\n",
      "likes                     40379 non-null int64\n",
      "dislikes                  40379 non-null int64\n",
      "comment_count             40379 non-null int64\n",
      "thumbnail_link            40379 non-null object\n",
      "comments_disabled         40379 non-null bool\n",
      "ratings_disabled          40379 non-null bool\n",
      "video_error_or_removed    40379 non-null bool\n",
      "description               40379 non-null object\n",
      "dtypes: bool(3), int64(5), object(8)\n",
      "memory usage: 4.4+ MB\n"
     ]
    }
   ],
   "source": [
    "dfUSA.info()"
   ]
  },
  {
   "cell_type": "code",
   "execution_count": 12,
   "metadata": {},
   "outputs": [
    {
     "data": {
      "text/plain": [
       "array([ 1,  2, 10, 15, 17, 19, 20, 22, 23, 24, 25, 26, 27, 28, 29, 30, 43],\n",
       "      dtype=int64)"
      ]
     },
     "execution_count": 12,
     "metadata": {},
     "output_type": "execute_result"
    }
   ],
   "source": [
    "category_india = dfIndia['category_id'].unique()\n",
    "category_india.sort()\n",
    "category_india"
   ]
  },
  {
   "cell_type": "code",
   "execution_count": 13,
   "metadata": {},
   "outputs": [
    {
     "data": {
      "text/plain": [
       "array([ 1,  2, 10, 15, 17, 19, 20, 22, 23, 24, 25, 26, 27, 28, 29, 43],\n",
       "      dtype=int64)"
      ]
     },
     "execution_count": 13,
     "metadata": {},
     "output_type": "execute_result"
    }
   ],
   "source": [
    "category_us = dfUSA['category_id'].unique()\n",
    "category_us.sort()\n",
    "category_us"
   ]
  },
  {
   "cell_type": "markdown",
   "metadata": {},
   "source": [
    "## youtube videos category id list\n",
    "#2 - Autos & Vehicles\n",
    "#1 -  Film & Animation\n",
    "#10 - Music\n",
    "#15 - Pets & Animals\n",
    "#17 - Sports\n",
    "#18 - Short Movies\n",
    "#19 - Travel & Events\n",
    "#20 - Gaming\n",
    "#21 - Videoblogging\n",
    "#22 - People & Blogs\n",
    "#23 - Comedy\n",
    "#24 - Entertainment\n",
    "#25 - News & Politics\n",
    "#26 - Howto & Style\n",
    "#27 - Education\n",
    "#28 - Science & Technology\n",
    "#29 - Nonprofits & Activism\n",
    "#30 - Movies\n",
    "#31 - Anime/Animation\n",
    "#32 - Action/Adventure\n",
    "#33 - Classics\n",
    "#34 - Comedy\n",
    "#35 - Documentary\n",
    "#36 - Drama\n",
    "#37 - Family\n",
    "#38 - Foreign\n",
    "#39 - Horror\n",
    "#40 - Sci-Fi/Fantasy\n",
    "#41 - Thriller\n",
    "#42 - Shorts\n",
    "#43 - Shows\n",
    "#44 - Trailers\n",
    "\n",
    "## source = https://gist.github.com/dgp/1b24bf2961521bd75d6c"
   ]
  },
  {
   "cell_type": "markdown",
   "metadata": {},
   "source": [
    "### 1. Movies category is not found in US Data while its there in India data"
   ]
  },
  {
   "cell_type": "code",
   "execution_count": 14,
   "metadata": {},
   "outputs": [
    {
     "data": {
      "text/plain": [
       "1390"
      ]
     },
     "execution_count": 14,
     "metadata": {},
     "output_type": "execute_result"
    }
   ],
   "source": [
    "dfIndia['channel_title'].nunique()"
   ]
  },
  {
   "cell_type": "code",
   "execution_count": 15,
   "metadata": {},
   "outputs": [
    {
     "data": {
      "text/plain": [
       "2142"
      ]
     },
     "execution_count": 15,
     "metadata": {},
     "output_type": "execute_result"
    }
   ],
   "source": [
    "dfUSA['channel_title'].nunique()"
   ]
  },
  {
   "cell_type": "markdown",
   "metadata": {},
   "source": [
    "## lets check trending videos of each category in India and US"
   ]
  },
  {
   "cell_type": "code",
   "execution_count": 16,
   "metadata": {},
   "outputs": [],
   "source": [
    "category_count_india = dfIndia.groupby('category_id').count()['video_id']\n",
    "category_count_usa = dfUSA.groupby('category_id').count()['video_id']"
   ]
  },
  {
   "cell_type": "code",
   "execution_count": 17,
   "metadata": {},
   "outputs": [
    {
     "name": "stdout",
     "output_type": "stream",
     "text": [
      "category_id\n",
      "1      1649\n",
      "2        69\n",
      "10     3857\n",
      "15        3\n",
      "17      712\n",
      "19        8\n",
      "20       66\n",
      "22     2494\n",
      "23     3407\n",
      "24    16462\n",
      "25     5173\n",
      "26      837\n",
      "27     1180\n",
      "28      548\n",
      "29      105\n",
      "30       16\n",
      "43      205\n",
      "Name: video_id, dtype: int64\n",
      "-----------------------------------\n",
      "category_id\n",
      "1     2340\n",
      "2      379\n",
      "10    6437\n",
      "15     916\n",
      "17    2125\n",
      "19     402\n",
      "20     803\n",
      "22    3061\n",
      "23    3435\n",
      "24    9819\n",
      "25    2409\n",
      "26    4140\n",
      "27    1642\n",
      "28    2361\n",
      "29      53\n",
      "43      57\n",
      "Name: video_id, dtype: int64\n"
     ]
    }
   ],
   "source": [
    "print(category_count_india)\n",
    "print('-----------------------------------')\n",
    "print(category_count_usa)"
   ]
  },
  {
   "cell_type": "markdown",
   "metadata": {},
   "source": [
    "## count of videos is not a good estimate to compare \n",
    "## instead we'll be looking at percentage of videos of each category"
   ]
  },
  {
   "cell_type": "code",
   "execution_count": 18,
   "metadata": {},
   "outputs": [
    {
     "name": "stdout",
     "output_type": "stream",
     "text": [
      "category_id\n",
      "1      4.482074\n",
      "2      0.187546\n",
      "10    10.483542\n",
      "15     0.008154\n",
      "17     1.935256\n",
      "19     0.021744\n",
      "20     0.179392\n",
      "22     6.778832\n",
      "23     9.260417\n",
      "24    44.744639\n",
      "25    14.060504\n",
      "26     2.275013\n",
      "27     3.207306\n",
      "28     1.489495\n",
      "29     0.285396\n",
      "30     0.043489\n",
      "43     0.557201\n",
      "Name: video_id, dtype: float64\n",
      "-------------------------------------\n",
      "category_id\n",
      "1      5.795092\n",
      "2      0.938607\n",
      "10    15.941455\n",
      "15     2.268506\n",
      "17     5.262637\n",
      "19     0.995567\n",
      "20     1.988657\n",
      "22     7.580673\n",
      "23     8.506897\n",
      "24    24.317096\n",
      "25     5.965972\n",
      "26    10.252854\n",
      "27     4.066470\n",
      "28     5.847099\n",
      "29     0.131256\n",
      "43     0.141162\n",
      "Name: video_id, dtype: float64\n"
     ]
    }
   ],
   "source": [
    "category_count_india = (category_count_india/category_count_india.sum())*100\n",
    "category_count_usa = (category_count_usa/category_count_usa.sum())*100\n",
    "print(category_count_india)\n",
    "print('-------------------------------------')\n",
    "print(category_count_usa)"
   ]
  },
  {
   "cell_type": "markdown",
   "metadata": {},
   "source": [
    "### lets create a category dataframe containing data of both india and usa"
   ]
  },
  {
   "cell_type": "code",
   "execution_count": 19,
   "metadata": {},
   "outputs": [],
   "source": [
    "frame = { 'India': category_count_india, 'USA': category_count_usa } \n",
    "df_category_ind_us = pd.DataFrame(frame)"
   ]
  },
  {
   "cell_type": "code",
   "execution_count": 20,
   "metadata": {},
   "outputs": [
    {
     "data": {
      "text/html": [
       "<div>\n",
       "<style scoped>\n",
       "    .dataframe tbody tr th:only-of-type {\n",
       "        vertical-align: middle;\n",
       "    }\n",
       "\n",
       "    .dataframe tbody tr th {\n",
       "        vertical-align: top;\n",
       "    }\n",
       "\n",
       "    .dataframe thead th {\n",
       "        text-align: right;\n",
       "    }\n",
       "</style>\n",
       "<table border=\"1\" class=\"dataframe\">\n",
       "  <thead>\n",
       "    <tr style=\"text-align: right;\">\n",
       "      <th></th>\n",
       "      <th>India</th>\n",
       "      <th>USA</th>\n",
       "    </tr>\n",
       "    <tr>\n",
       "      <th>category_id</th>\n",
       "      <th></th>\n",
       "      <th></th>\n",
       "    </tr>\n",
       "  </thead>\n",
       "  <tbody>\n",
       "    <tr>\n",
       "      <td>1</td>\n",
       "      <td>4.482074</td>\n",
       "      <td>5.795092</td>\n",
       "    </tr>\n",
       "    <tr>\n",
       "      <td>2</td>\n",
       "      <td>0.187546</td>\n",
       "      <td>0.938607</td>\n",
       "    </tr>\n",
       "    <tr>\n",
       "      <td>10</td>\n",
       "      <td>10.483542</td>\n",
       "      <td>15.941455</td>\n",
       "    </tr>\n",
       "    <tr>\n",
       "      <td>15</td>\n",
       "      <td>0.008154</td>\n",
       "      <td>2.268506</td>\n",
       "    </tr>\n",
       "    <tr>\n",
       "      <td>17</td>\n",
       "      <td>1.935256</td>\n",
       "      <td>5.262637</td>\n",
       "    </tr>\n",
       "    <tr>\n",
       "      <td>19</td>\n",
       "      <td>0.021744</td>\n",
       "      <td>0.995567</td>\n",
       "    </tr>\n",
       "    <tr>\n",
       "      <td>20</td>\n",
       "      <td>0.179392</td>\n",
       "      <td>1.988657</td>\n",
       "    </tr>\n",
       "    <tr>\n",
       "      <td>22</td>\n",
       "      <td>6.778832</td>\n",
       "      <td>7.580673</td>\n",
       "    </tr>\n",
       "    <tr>\n",
       "      <td>23</td>\n",
       "      <td>9.260417</td>\n",
       "      <td>8.506897</td>\n",
       "    </tr>\n",
       "    <tr>\n",
       "      <td>24</td>\n",
       "      <td>44.744639</td>\n",
       "      <td>24.317096</td>\n",
       "    </tr>\n",
       "    <tr>\n",
       "      <td>25</td>\n",
       "      <td>14.060504</td>\n",
       "      <td>5.965972</td>\n",
       "    </tr>\n",
       "    <tr>\n",
       "      <td>26</td>\n",
       "      <td>2.275013</td>\n",
       "      <td>10.252854</td>\n",
       "    </tr>\n",
       "    <tr>\n",
       "      <td>27</td>\n",
       "      <td>3.207306</td>\n",
       "      <td>4.066470</td>\n",
       "    </tr>\n",
       "    <tr>\n",
       "      <td>28</td>\n",
       "      <td>1.489495</td>\n",
       "      <td>5.847099</td>\n",
       "    </tr>\n",
       "    <tr>\n",
       "      <td>29</td>\n",
       "      <td>0.285396</td>\n",
       "      <td>0.131256</td>\n",
       "    </tr>\n",
       "    <tr>\n",
       "      <td>30</td>\n",
       "      <td>0.043489</td>\n",
       "      <td>NaN</td>\n",
       "    </tr>\n",
       "    <tr>\n",
       "      <td>43</td>\n",
       "      <td>0.557201</td>\n",
       "      <td>0.141162</td>\n",
       "    </tr>\n",
       "  </tbody>\n",
       "</table>\n",
       "</div>"
      ],
      "text/plain": [
       "                 India        USA\n",
       "category_id                      \n",
       "1             4.482074   5.795092\n",
       "2             0.187546   0.938607\n",
       "10           10.483542  15.941455\n",
       "15            0.008154   2.268506\n",
       "17            1.935256   5.262637\n",
       "19            0.021744   0.995567\n",
       "20            0.179392   1.988657\n",
       "22            6.778832   7.580673\n",
       "23            9.260417   8.506897\n",
       "24           44.744639  24.317096\n",
       "25           14.060504   5.965972\n",
       "26            2.275013  10.252854\n",
       "27            3.207306   4.066470\n",
       "28            1.489495   5.847099\n",
       "29            0.285396   0.131256\n",
       "30            0.043489        NaN\n",
       "43            0.557201   0.141162"
      ]
     },
     "execution_count": 20,
     "metadata": {},
     "output_type": "execute_result"
    }
   ],
   "source": [
    "df_category_ind_us"
   ]
  },
  {
   "cell_type": "code",
   "execution_count": 36,
   "metadata": {},
   "outputs": [
    {
     "name": "stdout",
     "output_type": "stream",
     "text": [
      "<class 'pandas.core.frame.DataFrame'>\n",
      "RangeIndex: 16 entries, 0 to 15\n",
      "Data columns (total 4 columns):\n",
      "index          16 non-null int64\n",
      "category_id    16 non-null int64\n",
      "India          16 non-null float64\n",
      "USA            16 non-null float64\n",
      "dtypes: float64(2), int64(2)\n",
      "memory usage: 640.0 bytes\n"
     ]
    }
   ],
   "source": [
    "df_category_ind_us.dropna(inplace = True)\n",
    "df_category_ind_us.reset_index(inplace = True)\n",
    "df_category_ind_us.info()"
   ]
  },
  {
   "cell_type": "code",
   "execution_count": 22,
   "metadata": {},
   "outputs": [],
   "source": [
    "category_dict = {2 : 'Autos & Vehicles',\n",
    "1 : 'Film & Animation',\n",
    "10 : 'Music',\n",
    "15 :'Pets & Animals',\n",
    "17 : 'Sports',\n",
    "18 : 'Short Movies',\n",
    "19 :'Travel & Events',\n",
    "20 : 'Gaming',\n",
    "21 : 'Videoblogging',\n",
    "22 : 'People & Blogs',\n",
    "23 : 'Comedy',\n",
    "24 : 'Entertainment',\n",
    "25 : 'News & Politics',\n",
    "26 : 'Howto & Style',\n",
    "27 : 'Education',\n",
    "28 : 'Science & Technology',\n",
    "29 : 'Nonprofits & Activism',\n",
    "30 : 'Movies',\n",
    "31 : 'Anime/Animation',\n",
    "32 : 'Action/Adventur',   \n",
    "33 : 'Classics',\n",
    "34 : 'Comedy',\n",
    "35 : 'Documentary',\n",
    "36 : 'Drama',\n",
    "37 : 'Family',\n",
    "38 : 'Foreign',\n",
    "39 : 'Horror',\n",
    "40 : 'Sci-Fi/Fantasy',\n",
    "41 : 'Thriller',\n",
    "42 : 'Shorts',\n",
    "43 : 'Shows',\n",
    "44 : 'Trailers'\n",
    "}\n"
   ]
  },
  {
   "cell_type": "code",
   "execution_count": 40,
   "metadata": {},
   "outputs": [
    {
     "data": {
      "text/html": [
       "<div>\n",
       "<style scoped>\n",
       "    .dataframe tbody tr th:only-of-type {\n",
       "        vertical-align: middle;\n",
       "    }\n",
       "\n",
       "    .dataframe tbody tr th {\n",
       "        vertical-align: top;\n",
       "    }\n",
       "\n",
       "    .dataframe thead th {\n",
       "        text-align: right;\n",
       "    }\n",
       "</style>\n",
       "<table border=\"1\" class=\"dataframe\">\n",
       "  <thead>\n",
       "    <tr style=\"text-align: right;\">\n",
       "      <th></th>\n",
       "      <th>index</th>\n",
       "      <th>category_id</th>\n",
       "      <th>India</th>\n",
       "      <th>USA</th>\n",
       "      <th>category_name</th>\n",
       "    </tr>\n",
       "  </thead>\n",
       "  <tbody>\n",
       "    <tr>\n",
       "      <td>0</td>\n",
       "      <td>0</td>\n",
       "      <td>1</td>\n",
       "      <td>4.482074</td>\n",
       "      <td>5.795092</td>\n",
       "      <td>Film &amp; Animation</td>\n",
       "    </tr>\n",
       "    <tr>\n",
       "      <td>1</td>\n",
       "      <td>1</td>\n",
       "      <td>2</td>\n",
       "      <td>0.187546</td>\n",
       "      <td>0.938607</td>\n",
       "      <td>Autos &amp; Vehicles</td>\n",
       "    </tr>\n",
       "    <tr>\n",
       "      <td>2</td>\n",
       "      <td>2</td>\n",
       "      <td>10</td>\n",
       "      <td>10.483542</td>\n",
       "      <td>15.941455</td>\n",
       "      <td>Music</td>\n",
       "    </tr>\n",
       "    <tr>\n",
       "      <td>3</td>\n",
       "      <td>3</td>\n",
       "      <td>15</td>\n",
       "      <td>0.008154</td>\n",
       "      <td>2.268506</td>\n",
       "      <td>Pets &amp; Animals</td>\n",
       "    </tr>\n",
       "    <tr>\n",
       "      <td>4</td>\n",
       "      <td>4</td>\n",
       "      <td>17</td>\n",
       "      <td>1.935256</td>\n",
       "      <td>5.262637</td>\n",
       "      <td>Sports</td>\n",
       "    </tr>\n",
       "    <tr>\n",
       "      <td>5</td>\n",
       "      <td>5</td>\n",
       "      <td>19</td>\n",
       "      <td>0.021744</td>\n",
       "      <td>0.995567</td>\n",
       "      <td>Travel &amp; Events</td>\n",
       "    </tr>\n",
       "    <tr>\n",
       "      <td>6</td>\n",
       "      <td>6</td>\n",
       "      <td>20</td>\n",
       "      <td>0.179392</td>\n",
       "      <td>1.988657</td>\n",
       "      <td>Gaming</td>\n",
       "    </tr>\n",
       "    <tr>\n",
       "      <td>7</td>\n",
       "      <td>7</td>\n",
       "      <td>22</td>\n",
       "      <td>6.778832</td>\n",
       "      <td>7.580673</td>\n",
       "      <td>People &amp; Blogs</td>\n",
       "    </tr>\n",
       "    <tr>\n",
       "      <td>8</td>\n",
       "      <td>8</td>\n",
       "      <td>23</td>\n",
       "      <td>9.260417</td>\n",
       "      <td>8.506897</td>\n",
       "      <td>Comedy</td>\n",
       "    </tr>\n",
       "    <tr>\n",
       "      <td>9</td>\n",
       "      <td>9</td>\n",
       "      <td>24</td>\n",
       "      <td>44.744639</td>\n",
       "      <td>24.317096</td>\n",
       "      <td>Entertainment</td>\n",
       "    </tr>\n",
       "    <tr>\n",
       "      <td>10</td>\n",
       "      <td>10</td>\n",
       "      <td>25</td>\n",
       "      <td>14.060504</td>\n",
       "      <td>5.965972</td>\n",
       "      <td>News &amp; Politics</td>\n",
       "    </tr>\n",
       "    <tr>\n",
       "      <td>11</td>\n",
       "      <td>11</td>\n",
       "      <td>26</td>\n",
       "      <td>2.275013</td>\n",
       "      <td>10.252854</td>\n",
       "      <td>Howto &amp; Style</td>\n",
       "    </tr>\n",
       "    <tr>\n",
       "      <td>12</td>\n",
       "      <td>12</td>\n",
       "      <td>27</td>\n",
       "      <td>3.207306</td>\n",
       "      <td>4.066470</td>\n",
       "      <td>Education</td>\n",
       "    </tr>\n",
       "    <tr>\n",
       "      <td>13</td>\n",
       "      <td>13</td>\n",
       "      <td>28</td>\n",
       "      <td>1.489495</td>\n",
       "      <td>5.847099</td>\n",
       "      <td>Science &amp; Technology</td>\n",
       "    </tr>\n",
       "    <tr>\n",
       "      <td>14</td>\n",
       "      <td>14</td>\n",
       "      <td>29</td>\n",
       "      <td>0.285396</td>\n",
       "      <td>0.131256</td>\n",
       "      <td>Nonprofits &amp; Activism</td>\n",
       "    </tr>\n",
       "    <tr>\n",
       "      <td>15</td>\n",
       "      <td>15</td>\n",
       "      <td>43</td>\n",
       "      <td>0.557201</td>\n",
       "      <td>0.141162</td>\n",
       "      <td>Shows</td>\n",
       "    </tr>\n",
       "  </tbody>\n",
       "</table>\n",
       "</div>"
      ],
      "text/plain": [
       "    index  category_id      India        USA          category_name\n",
       "0       0            1   4.482074   5.795092       Film & Animation\n",
       "1       1            2   0.187546   0.938607       Autos & Vehicles\n",
       "2       2           10  10.483542  15.941455                  Music\n",
       "3       3           15   0.008154   2.268506         Pets & Animals\n",
       "4       4           17   1.935256   5.262637                 Sports\n",
       "5       5           19   0.021744   0.995567        Travel & Events\n",
       "6       6           20   0.179392   1.988657                 Gaming\n",
       "7       7           22   6.778832   7.580673         People & Blogs\n",
       "8       8           23   9.260417   8.506897                 Comedy\n",
       "9       9           24  44.744639  24.317096          Entertainment\n",
       "10     10           25  14.060504   5.965972        News & Politics\n",
       "11     11           26   2.275013  10.252854          Howto & Style\n",
       "12     12           27   3.207306   4.066470              Education\n",
       "13     13           28   1.489495   5.847099   Science & Technology\n",
       "14     14           29   0.285396   0.131256  Nonprofits & Activism\n",
       "15     15           43   0.557201   0.141162                  Shows"
      ]
     },
     "execution_count": 40,
     "metadata": {},
     "output_type": "execute_result"
    }
   ],
   "source": [
    "df_category_ind_us['category_name'] = df_category_ind_us['category_id'].map(category_dict)\n",
    "# df_category_ind_us.drop(index)\n",
    "df_category_ind_us"
   ]
  },
  {
   "cell_type": "code",
   "execution_count": 41,
   "metadata": {},
   "outputs": [
    {
     "data": {
      "image/png": "[encoded data removed]",
      "text/plain": [
       "<Figure size 900x600 with 1 Axes>"
      ]
     },
     "metadata": {
      "needs_background": "light"
     },
     "output_type": "display_data"
    }
   ],
   "source": [
    "# data to plot\n",
    "import matplotlib.pyplot as plt\n",
    "plt.rcParams['figure.dpi'] = 150\n",
    "n_groups = 16\n",
    "india = list(df_category_ind_us['India'])\n",
    "usa = list(df_category_ind_us['USA'])\n",
    "\n",
    "\n",
    "# create plot\n",
    "fig, ax = plt.subplots()\n",
    "index = np.arange(n_groups)\n",
    "bar_width = 0.3\n",
    "opacity = 0.8\n",
    "\n",
    "\n",
    "rects1 = plt.bar(index, india, bar_width,\n",
    "alpha=opacity,\n",
    "color='b',\n",
    "label='india')\n",
    "\n",
    "rects2 = plt.bar(index + bar_width, usa, bar_width,\n",
    "alpha=opacity,\n",
    "color='g',\n",
    "label='usa')\n",
    "\n",
    "plt.xlabel('category')\n",
    "plt.ylabel('percentage')\n",
    "plt.title('distribution of category by percentage')\n",
    "# plt.xticks(index + bar_width, ('1', '2', '10', '15','17','19','20','22','23','24','25','26','27','28','29','43'))\n",
    "plt.xticks(index + bar_width,df_category_ind_us['category_name'])\n",
    "plt.legend()\n",
    "\n",
    "plt.tight_layout()\n",
    "plt.xticks(rotation=90) \n",
    "plt.show()"
   ]
  },
  {
   "cell_type": "markdown",
   "metadata": {},
   "source": [
    "## category wise distribution of trending videos in India"
   ]
  },
  {
   "cell_type": "code",
   "execution_count": 27,
   "metadata": {},
   "outputs": [
    {
     "data": {
      "image/png": "[encoded data removed]",
      "text/plain": [
       "<Figure size 600x400 with 1 Axes>"
      ]
     },
     "metadata": {},
     "output_type": "display_data"
    }
   ],
   "source": [
    "#making pie chart for distribution of videos in countries\n",
    "plt.rcParams['figure.dpi'] = 100\n",
    "labels = list(category_dict.values())\n",
    "sizes = list(df_category_ind_us['India'])\n",
    "patches, texts = plt.pie(sizes, shadow=True, startangle=90)\n",
    "plt.legend(patches, labels, loc=\"best\",prop={'size': 8})\n",
    "plt.axis('equal')\n",
    "plt.tight_layout()\n",
    "plt.show()"
   ]
  },
  {
   "cell_type": "markdown",
   "metadata": {},
   "source": [
    "## category wise distribution of trending videos in USA"
   ]
  },
  {
   "cell_type": "code",
   "execution_count": null,
   "metadata": {},
   "outputs": [],
   "source": [
    "plt.rcParams['figure.dpi'] = 100\n",
    "labels = list(category_dict.values())\n",
    "sizes = list(df_category_ind_us['USA'])\n",
    "patches, texts = plt.pie(sizes, shadow=True, startangle=90)\n",
    "plt.legend(patches, labels, loc=\"best\",prop={'size': 8})\n",
    "plt.axis('equal')\n",
    "plt.tight_layout()\n",
    "plt.show()"
   ]
  },
  {
   "cell_type": "markdown",
   "metadata": {},
   "source": [
    "### on the basis of visualization we can find there are various categories but only a few were on trending most of the times"
   ]
  },
  {
   "cell_type": "code",
   "execution_count": null,
   "metadata": {},
   "outputs": [],
   "source": [
    "sort_category_ind = df_category_ind_us.sort_values('India')['India']\n",
    "sort_category_us = df_category_ind_us.sort_values('USA')['USA']\n",
    "sort_category_ind=pd.DataFrame(sort_category_ind)\n",
    "sort_category_us=pd.DataFrame(sort_category_us)"
   ]
  },
  {
   "cell_type": "code",
   "execution_count": null,
   "metadata": {},
   "outputs": [],
   "source": [
    "print(sort_category_ind)\n",
    "print('--------------------------')\n",
    "print(sort_category_us)"
   ]
  },
  {
   "cell_type": "markdown",
   "metadata": {},
   "source": [
    "### so dominant categories for INDIA are 24, 25, 10, 23, 22\n",
    "### and that for USA are 24, 10, 26, 23, 22"
   ]
  },
  {
   "cell_type": "code",
   "execution_count": null,
   "metadata": {},
   "outputs": [],
   "source": [
    "# df_ind_top5 = dfIndia[(dfIndia.category_id == 24) | (dfIndia.category_id == 10) | (dfIndia.category_id == 25) | (dfIndia.category_id == 22) | (dfIndia.category_id == 23)]\n",
    "# df_us_top5 = dfUSA[(dfUSA.category_id == 24) | (dfUSA.category_id == 10) | (dfUSA.category_id == 26) | (dfUSA.category_id == 23) | (dfUSA.category_id == 22)]\n",
    "\n",
    "\n",
    "df_ind_top5 = dfIndia[(dfIndia.category_id == 24) | (dfIndia.category_id == 25) | (dfIndia.category_id == 10)]\n",
    "df_us_top5 = dfUSA[(dfUSA.category_id == 24) | (dfUSA.category_id == 10) | (dfUSA.category_id == 26)]"
   ]
  },
  {
   "cell_type": "code",
   "execution_count": null,
   "metadata": {},
   "outputs": [],
   "source": [
    "df_ind_top5.category_id.nunique()"
   ]
  },
  {
   "cell_type": "code",
   "execution_count": null,
   "metadata": {},
   "outputs": [],
   "source": [
    "len(df_ind_top5)"
   ]
  },
  {
   "cell_type": "code",
   "execution_count": null,
   "metadata": {},
   "outputs": [],
   "source": [
    "df_ind_top5.info()"
   ]
  },
  {
   "cell_type": "code",
   "execution_count": null,
   "metadata": {},
   "outputs": [],
   "source": [
    "sb.set(style=\"ticks\", color_codes=True,rc={'figure.figsize':(20,15)})\n",
    "g = sb.pairplot(data = df_ind_top5[['category_id','views','likes','dislikes','comment_count']],hue='category_id', diag_kind='hist')"
   ]
  },
  {
   "cell_type": "markdown",
   "metadata": {},
   "source": [
    "## in the above plot category_id 24 shows a good correlation for (likes vs views) and (likes vs comment count) however these aspects are not clear for category_id 10 and 25"
   ]
  },
  {
   "cell_type": "code",
   "execution_count": null,
   "metadata": {},
   "outputs": [],
   "source": [
    "sb.set(style=\"ticks\", color_codes=True,rc={'figure.figsize':(20,15)})\n",
    "g = sb.pairplot(data = df_us_top5[['category_id','views','likes','dislikes','comment_count']],hue='category_id', diag_kind='hist')"
   ]
  },
  {
   "cell_type": "markdown",
   "metadata": {},
   "source": [
    "### here category 10 shows a good relatiom with (likes vs views) but things are not clear yet"
   ]
  },
  {
   "cell_type": "markdown",
   "metadata": {},
   "source": [
    "### now lets check how different features like views, comment count, likes, dislikes related to each other"
   ]
  },
  {
   "cell_type": "code",
   "execution_count": null,
   "metadata": {},
   "outputs": [],
   "source": [
    "numeric_df_ind = dfIndia[['category_id','views','likes','dislikes','comment_count']]\n",
    "numeric_df_us = dfUSA[['category_id','views','likes','dislikes','comment_count']]"
   ]
  },
  {
   "cell_type": "code",
   "execution_count": null,
   "metadata": {},
   "outputs": [],
   "source": [
    "numeric_df_ind.corr()"
   ]
  },
  {
   "cell_type": "code",
   "execution_count": null,
   "metadata": {},
   "outputs": [],
   "source": [
    "numeric_df_us.corr()"
   ]
  },
  {
   "cell_type": "markdown",
   "metadata": {},
   "source": [
    "# Correlation heatmap for India"
   ]
  },
  {
   "cell_type": "code",
   "execution_count": null,
   "metadata": {},
   "outputs": [],
   "source": [
    "\n",
    "fig, ax = plt.subplots()\n",
    "fig.set_size_inches(14, 7)\n",
    "ax = sb.heatmap(numeric_df_ind.corr(),annot=True)\n",
    "fig.patch.set_facecolor('xkcd:pink')"
   ]
  },
  {
   "cell_type": "markdown",
   "metadata": {},
   "source": [
    "# Correlation heatmap for USA"
   ]
  },
  {
   "cell_type": "code",
   "execution_count": null,
   "metadata": {},
   "outputs": [],
   "source": [
    "fig, ax = plt.subplots()\n",
    "fig.set_size_inches(14, 7)\n",
    "ax = sb.heatmap(numeric_df_us.corr(),annot=True)\n",
    "fig.patch.set_facecolor('xkcd:pink')"
   ]
  },
  {
   "cell_type": "code",
   "execution_count": null,
   "metadata": {},
   "outputs": [],
   "source": [
    "dfIndia_trend_time = pd.read_csv('dfIndia_trend_time.csv')\n",
    "dfIndia_trend_time.head()"
   ]
  },
  {
   "cell_type": "code",
   "execution_count": null,
   "metadata": {},
   "outputs": [],
   "source": [
    "# type(dfIndia_trend_time.iloc[0]['trending_date'])\n",
    "dfIndia_trend_time['trending_date'] = pd.to_datetime(dfIndia_trend_time['trending_date'],yearfirst=True)\n",
    "dfIndia_trend_time['publish_date'] = pd.to_datetime(dfIndia_trend_time['publish_date'],yearfirst=True)"
   ]
  },
  {
   "cell_type": "code",
   "execution_count": null,
   "metadata": {},
   "outputs": [],
   "source": [
    "dfIndia_trend_time.head()"
   ]
  },
  {
   "cell_type": "code",
   "execution_count": null,
   "metadata": {},
   "outputs": [],
   "source": [
    "dfIndia_trend_time['Difference'] = (dfIndia_trend_time['trending_date'] - dfIndia_trend_time['publish_date']).dt.days"
   ]
  },
  {
   "cell_type": "code",
   "execution_count": null,
   "metadata": {},
   "outputs": [],
   "source": [
    "dfIndia_trend_time.head()"
   ]
  },
  {
   "cell_type": "code",
   "execution_count": null,
   "metadata": {},
   "outputs": [],
   "source": [
    "# dfIndia_trend_time.boxplot(column='Difference', by='category_id',fontsize=25)\n",
    "plt.ylim(0,20)\n",
    "# sb.set_context(\"paper\", rc={\"font.size\":50,\"axes.titlesize\":50,\"axes.labelsize\":50})   \n",
    "\n",
    "#plt.rcParams.update({'font.size': 50})\n",
    "# sb.set(font_scale=1.5)\n",
    "# plt.style.use('dark_background')\n",
    "#sb.set_style('dark')\n",
    "#sb.set_palette()\n",
    "plt.rcParams[\"axes.labelsize\"] = 20\n",
    "sb.boxplot(x = 'category_id',y = 'Difference',data = dfIndia_trend_time)"
   ]
  },
  {
   "cell_type": "code",
   "execution_count": null,
   "metadata": {},
   "outputs": [],
   "source": [
    "dfUSA_trend_time['trending_date'] = pd.to_datetime(dfUSA_trend_time['trending_date'],yearfirst=True)\n",
    "dfUSA_trend_time['publish_date'] = pd.to_datetime(dfUSA_trend_time['publish_date'],yearfirst=True)\n",
    "dfUSA_trend_time.info()"
   ]
  },
  {
   "cell_type": "code",
   "execution_count": null,
   "metadata": {},
   "outputs": [],
   "source": [
    "dfUSA_trend_time['Difference'] = (dfUSA_trend_time['trending_date'] - dfUSA_trend_time['publish_date']).dt.days\n",
    "dfUSA_trend_time.head()"
   ]
  },
  {
   "cell_type": "code",
   "execution_count": null,
   "metadata": {},
   "outputs": [],
   "source": [
    "plt.ylim(0,20)\n",
    "# plt.style.use('dark_background')\n",
    "plt.rcParams[\"axes.labelsize\"] = 20\n",
    "sb.boxplot(x = 'category_id',y = 'Difference',data = dfUSA_trend_time)"
   ]
  },
  {
   "cell_type": "code",
   "execution_count": null,
   "metadata": {},
   "outputs": [],
   "source": [
    "dfIndia_trend_time['country'] = 'ind'\n",
    "dfUSA_trend_time['country'] = 'us'"
   ]
  },
  {
   "cell_type": "code",
   "execution_count": null,
   "metadata": {},
   "outputs": [],
   "source": [
    "df_trend_time= pd.concat([dfIndia_trend_time, dfUSA_trend_time], ignore_index=True)"
   ]
  },
  {
   "cell_type": "code",
   "execution_count": null,
   "metadata": {},
   "outputs": [],
   "source": [
    "df_trend_time.drop(['Unnamed: 0','Unnamed: 0.1'],axis = 1,inplace = True)"
   ]
  },
  {
   "cell_type": "code",
   "execution_count": null,
   "metadata": {},
   "outputs": [],
   "source": [
    "len(df_trend_time)"
   ]
  },
  {
   "cell_type": "code",
   "execution_count": null,
   "metadata": {},
   "outputs": [],
   "source": [
    "df_trend_time.tail()"
   ]
  },
  {
   "cell_type": "code",
   "execution_count": null,
   "metadata": {},
   "outputs": [],
   "source": [
    "df_trend_time['category_name'] = ''\n",
    "\n",
    "df_trend_time.loc[(df_trend_time[\"category_id\"] == 1),\"category_name\"] = 'Film and Animation'\n",
    "df_trend_time.loc[(df_trend_time[\"category_id\"] == 2),\"category_name\"] = 'Cars and Vehicles'\n",
    "df_trend_time.loc[(df_trend_time[\"category_id\"] == 10),\"category_name\"] = 'Music'\n",
    "df_trend_time.loc[(df_trend_time[\"category_id\"] == 15),\"category_name\"] = 'Pets and Animals'\n",
    "df_trend_time.loc[(df_trend_time[\"category_id\"] == 17),\"category_name\"] = 'Sport'\n",
    "df_trend_time.loc[(df_trend_time[\"category_id\"] == 19),\"category_name\"] = 'Travel and Events'\n",
    "df_trend_time.loc[(df_trend_time[\"category_id\"] == 20),\"category_name\"] = 'Gaming'\n",
    "df_trend_time.loc[(df_trend_time[\"category_id\"] == 22),\"category_name\"] = 'People and Blogs'\n",
    "df_trend_time.loc[(df_trend_time[\"category_id\"] == 23),\"category_name\"] = 'Comedy'\n",
    "df_trend_time.loc[(df_trend_time[\"category_id\"] == 24),\"category_name\"] = 'Entertainment'\n",
    "df_trend_time.loc[(df_trend_time[\"category_id\"] == 25),\"category_name\"] = 'News and Politics'\n",
    "df_trend_time.loc[(df_trend_time[\"category_id\"] == 26),\"category_name\"] = 'How to and Style'\n",
    "df_trend_time.loc[(df_trend_time[\"category_id\"] == 27),\"category_name\"] = 'Education'\n",
    "df_trend_time.loc[(df_trend_time[\"category_id\"] == 28),\"category_name\"] = 'Science and Technology'\n",
    "df_trend_time.loc[(df_trend_time[\"category_id\"] == 29),\"category_name\"] = 'Non Profits and Activism'\n",
    "df_trend_time.loc[(df_trend_time[\"category_id\"] == 25),\"category_name\"] = 'News & Politics'"
   ]
  },
  {
   "cell_type": "code",
   "execution_count": null,
   "metadata": {},
   "outputs": [],
   "source": [
    "df_trend_time = df_trend_time.astype({\"category_id\": str})\n",
    "df_trend_time.info()"
   ]
  },
  {
   "cell_type": "code",
   "execution_count": null,
   "metadata": {},
   "outputs": [],
   "source": [
    "from mlxtend.plotting import category_scatter\n",
    "plt.rcParams[\"axes.labelsize\"] = 15\n",
    "# fig.set_xticklabels(fig.get_xticklabels(),rotation=45)\n",
    "fig = category_scatter(x='category_id', y='Difference', label_col='country',colors = ('red','green'), markersize = 50,alpha = 1,\n",
    "                       data=df_trend_time, legend_loc='upper left')\n",
    "\n",
    "plt.ylim(0,100)\n",
    "# plt.xlim(0,45)"
   ]
  },
  {
   "cell_type": "markdown",
   "metadata": {},
   "source": [
    "## creating some features from text"
   ]
  },
  {
   "cell_type": "code",
   "execution_count": null,
   "metadata": {},
   "outputs": [],
   "source": [
    "dfIndia.info()"
   ]
  },
  {
   "cell_type": "code",
   "execution_count": null,
   "metadata": {},
   "outputs": [],
   "source": [
    "dfIndia_text = dfIndia[['video_id','category_id','channel_title','tags']]\n",
    "dfUSA_text = dfUSA[['video_id','category_id','channel_title','tags']]"
   ]
  },
  {
   "cell_type": "code",
   "execution_count": null,
   "metadata": {},
   "outputs": [],
   "source": [
    "dfUSA_text.head()"
   ]
  },
  {
   "cell_type": "code",
   "execution_count": null,
   "metadata": {},
   "outputs": [],
   "source": [
    "# dfIndia_text.groupby('channel_title').count()\n",
    "dfIndia_text = dfIndia_text.astype({\"category_id\": str})\n",
    "dfUSA_text = dfUSA_text.astype({\"category_id\": str})"
   ]
  },
  {
   "cell_type": "code",
   "execution_count": null,
   "metadata": {},
   "outputs": [],
   "source": [
    "srIND = dfIndia_text.groupby('channel_title').count()['video_id'].sort_values()"
   ]
  },
  {
   "cell_type": "code",
   "execution_count": null,
   "metadata": {},
   "outputs": [],
   "source": [
    "srIND"
   ]
  },
  {
   "cell_type": "markdown",
   "metadata": {},
   "source": [
    "## from the data of above list it we get that SAB TV, etvteluguindia, VikatanTV, Technical Guruji are the channels whose video got trended most of the times in INDIA"
   ]
  },
  {
   "cell_type": "code",
   "execution_count": null,
   "metadata": {},
   "outputs": [],
   "source": [
    "srUSA = dfUSA_text.groupby('channel_title').count()['video_id'].sort_values()"
   ]
  },
  {
   "cell_type": "code",
   "execution_count": null,
   "metadata": {},
   "outputs": [],
   "source": [
    "srUSA"
   ]
  },
  {
   "cell_type": "markdown",
   "metadata": {},
   "source": [
    "## while in USA Netflix, NBA, ESPN, Late Night with seth Meyers are among the ones trended the most"
   ]
  },
  {
   "cell_type": "code",
   "execution_count": null,
   "metadata": {},
   "outputs": [],
   "source": [
    "dfIndia.head()"
   ]
  },
  {
   "cell_type": "code",
   "execution_count": null,
   "metadata": {},
   "outputs": [],
   "source": [
    "category_count_india"
   ]
  },
  {
   "cell_type": "code",
   "execution_count": null,
   "metadata": {},
   "outputs": [],
   "source": []
  }
 ],
 "metadata": {
  "kernelspec": {
   "display_name": "Python 3",
   "language": "python",
   "name": "python3"
  },
  "language_info": {
   "codemirror_mode": {
    "name": "ipython",
    "version": 3
   },
   "file_extension": ".py",
   "mimetype": "text/x-python",
   "name": "python",
   "nbconvert_exporter": "python",
   "pygments_lexer": "ipython3",
   "version": "3.7.2"
  }
 },
 "nbformat": 4,
 "nbformat_minor": 2
}
